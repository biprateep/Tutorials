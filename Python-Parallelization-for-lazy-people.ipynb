{
 "cells": [
  {
   "cell_type": "markdown",
   "id": "d7b2a2d3-136d-479e-9b16-257b02d4edbd",
   "metadata": {},
   "source": [
    "# Python Parallelization for Lazy People (like me): 1 \n",
    "### Single Node Embarassingly Parallel Loops with Joblib"
   ]
  },
  {
   "cell_type": "markdown",
   "id": "37521dc6-3c93-46fb-8ca6-9be519fc908d",
   "metadata": {},
   "source": [
    "### Recap: List Comprehension"
   ]
  },
  {
   "cell_type": "code",
   "execution_count": null,
   "id": "06cb43ca-4f1b-40ab-a514-f0d9804a7597",
   "metadata": {},
   "outputs": [],
   "source": [
    "def square(number):\n",
    "    return number **2"
   ]
  },
  {
   "cell_type": "markdown",
   "id": "f5a02915-437a-45db-9027-3572e2875a06",
   "metadata": {},
   "source": [
    "The following two code blocks are equivalent, thought one is more compact than the other.\n",
    "\n",
    "(there are subtle differences which we will not bother about now)"
   ]
  },
  {
   "cell_type": "code",
   "execution_count": null,
   "id": "52a0bd63-33fd-4e07-b431-8692e5f64423",
   "metadata": {},
   "outputs": [],
   "source": [
    "outputs = []\n",
    "inputs = [1,43,72,786]\n",
    "\n",
    "for i in inputs:\n",
    "    outputs.append(square(i))\n",
    "print(\"Output: \", outputs)"
   ]
  },
  {
   "cell_type": "code",
   "execution_count": null,
   "id": "11e2855c-0fbc-44f4-8edf-8c6e8a5a2157",
   "metadata": {},
   "outputs": [],
   "source": [
    "inputs = [1,43,72,786]\n",
    "outputs = [square(i) for i in inputs]\n",
    "print(\"Output: \", outputs)"
   ]
  },
  {
   "cell_type": "markdown",
   "id": "9d2b19ef-cd4e-4983-a04c-27bc40134099",
   "metadata": {},
   "source": [
    "The later method of generating a list is called `list comprehension`. \n",
    "\n",
    "But what if our function has two outputs?"
   ]
  },
  {
   "cell_type": "code",
   "execution_count": null,
   "id": "fbd06da1-4570-4244-990e-a4039740ef17",
   "metadata": {},
   "outputs": [],
   "source": [
    "def square_root(number):\n",
    "    return number**0.5, -1*number**0.5"
   ]
  },
  {
   "cell_type": "code",
   "execution_count": null,
   "id": "5faddec0-d121-4e8c-b440-a52f30873584",
   "metadata": {},
   "outputs": [],
   "source": [
    "output_p = []\n",
    "output_n = []\n",
    "\n",
    "inputs = [1,43,72,786]\n",
    "\n",
    "for i in inputs:\n",
    "    p,n = square_root(i)\n",
    "    output_p.append(p)\n",
    "    output_n.append(n)\n",
    "    \n",
    "print(\"Positive output: \", output_p)\n",
    "print(\"Negative output: \", output_n)"
   ]
  },
  {
   "cell_type": "code",
   "execution_count": null,
   "id": "4e3268de-fbe6-4b41-86c0-713dcf147905",
   "metadata": {},
   "outputs": [],
   "source": [
    "output_p, output_n = zip(*[square_root(i) for i in inputs])\n",
    "print(\"Positive output: \", output_p)\n",
    "print(\"Negative output: \", output_n)"
   ]
  },
  {
   "cell_type": "markdown",
   "id": "ac1610a6-dc47-4373-9f5c-c20c813574aa",
   "metadata": {},
   "source": [
    "### Embarassingly Parallel Loops ([Moler, 1986](http://blogs.mathworks.com/cleve/2013/11/12/the-intel-hypercube-part-2-reposted/#096367ea-045e-4f28-8fa2-9f7db8fb7b01))\n",
    "\n",
    "When multiple iterations of the same function is being run where the outcome of one iteration does not affect or depend on the outcomes of another iteration. \n",
    "\n",
    "i.e. each iteration of a loop is an independent run of the code for all practical purposes."
   ]
  },
  {
   "cell_type": "code",
   "execution_count": null,
   "id": "6e636c3d-4f70-42a5-964a-04ff7153b6b2",
   "metadata": {},
   "outputs": [],
   "source": [
    "from joblib import Parallel, delayed"
   ]
  },
  {
   "cell_type": "code",
   "execution_count": null,
   "id": "b82ee8e9-ae1b-4ab0-97e4-6f864d73dee8",
   "metadata": {},
   "outputs": [],
   "source": [
    "outputs = Parallel(n_jobs=2)( #Parallel(n_jobs)( the input is the list comprehension)\n",
    "    delayed(square)(i) # delayed(the argument is the name of the original function)\n",
    "    for i in inputs)\n",
    "print(outputs)"
   ]
  },
  {
   "cell_type": "markdown",
   "id": "f41899a7-db10-42f9-bcb9-da1cfe44af70",
   "metadata": {},
   "source": [
    "What if my function has multiple outputs?"
   ]
  },
  {
   "cell_type": "code",
   "execution_count": null,
   "id": "4c1d86db-3064-4289-9469-cf457f738e16",
   "metadata": {},
   "outputs": [],
   "source": [
    "output_p, output_n = zip(*Parallel(n_jobs=2)(delayed(square_root)(i) for i in inputs))\n",
    "print(\"Positive output: \", output_p)\n",
    "print(\"Negative output: \", output_n)"
   ]
  },
  {
   "cell_type": "markdown",
   "id": "61360b16-b823-41a7-83f9-9042bd4573b4",
   "metadata": {},
   "source": [
    "How do I know how many threads are available?"
   ]
  },
  {
   "cell_type": "code",
   "execution_count": null,
   "id": "9d623edb-535c-423a-8736-a827e38693f6",
   "metadata": {},
   "outputs": [],
   "source": [
    "import multiprocessing\n",
    "\n",
    "n_workers = -1\n",
    "\n",
    "if n_workers <= 0:\n",
    "    n_workers = multiprocessing.cpu_count()\n",
    "else:\n",
    "    n_workers = min(int(n_workers), multiprocessing.cpu_count())\n",
    "print(\"Number of Workers: \", n_workers)"
   ]
  },
  {
   "cell_type": "markdown",
   "id": "d3577818-95b8-4a80-8cd2-2a10e754fe42",
   "metadata": {},
   "source": [
    "### Potential Pitfall: Oversubscription of cores \n",
    "There might be some numpy functions which parallelize things internally. Leading to the total number of parallel processes to blow up.\n",
    "It is better to limit the internal parallelization using either of the following ways."
   ]
  },
  {
   "cell_type": "markdown",
   "id": "8c67a0c3-8117-4ccb-baa8-af264053f680",
   "metadata": {},
   "source": [
    "```python\n",
    "import os\n",
    "\n",
    "os.environ['OMP_NUM_THREADS'] = '1'\n",
    "os.environ['OPENBLAS_NUM_THREADS'] = '1'\n",
    "os.environ['MKL_NUM_THREADS'] = '1'\n",
    "```"
   ]
  },
  {
   "cell_type": "markdown",
   "id": "cc1f1dc0-4601-4bed-b04b-246c03760de0",
   "metadata": {},
   "source": [
    "```python\n",
    "from joblib import Parallel, delayed, parallel_backend\n",
    "\n",
    "with parallel_backend(\"loky\", inner_max_num_threads=1):\n",
    "    results = Parallel(n_jobs=4)(delayed(func)(x, y) for x, y in data)\n",
    "```"
   ]
  }
 ],
 "metadata": {
  "kernelspec": {
   "display_name": "Python 3",
   "language": "python",
   "name": "python3"
  },
  "language_info": {
   "codemirror_mode": {
    "name": "ipython",
    "version": 3
   },
   "file_extension": ".py",
   "mimetype": "text/x-python",
   "name": "python",
   "nbconvert_exporter": "python",
   "pygments_lexer": "ipython3",
   "version": "3.9.12"
  }
 },
 "nbformat": 4,
 "nbformat_minor": 5
}
